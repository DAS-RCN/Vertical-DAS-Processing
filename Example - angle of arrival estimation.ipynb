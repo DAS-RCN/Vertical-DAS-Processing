{
 "cells": [
  {
   "cell_type": "code",
   "execution_count": 47,
   "id": "f6818c0a",
   "metadata": {},
   "outputs": [],
   "source": [
    "import scipy.signal as sci\n",
    "import numpy as np\n",
    "import TT_prediction as tt\n",
    "import angle_scan as a_sc\n",
    "import matplotlib.pyplot as plt\n",
    "\n",
    "def plot_seismic(data):\n",
    "    nch, nt = data.shape\n",
    "    plt.figure(figsize=(8,5))\n",
    "    plt.imshow(data.T, aspect='auto', cmap='seismic', extent=(0, nch-1,(nt-1)*dt, 0))\n",
    "    plt.xlabel('Depth (m)')\n",
    "    plt.ylabel('Time (s)')\n",
    "    plt.show()"
   ]
  },
  {
   "cell_type": "markdown",
   "id": "696e95c7",
   "metadata": {},
   "source": [
    "# Generating synthetic data\n",
    "\n",
    "We will start with a synthetic example in which we generate a simple dataset."
   ]
  },
  {
   "cell_type": "code",
   "execution_count": 48,
   "id": "a28911a0",
   "metadata": {
    "scrolled": true
   },
   "outputs": [],
   "source": [
    "nch = 1000\n",
    "nt = 1000\n",
    "dt = 0.001\n",
    "dz = 1.0\n",
    "\n",
    "ev_angle = np.array([48.0])\n",
    "vel = np.linspace(1700.0, 4000.0, nch) # A velocity gradient\n",
    "ev_delay = tt.pred_vertical_tt(vel, dz, ev_angle) # predict arrival times for all possible angles of incidence \n",
    "ev_delay = np.squeeze(ev_delay)\n",
    "data = np.zeros(shape=(nch, nt))\n",
    "\n",
    "for i in range(nch):\n",
    "    fsamp = 200+int(np.round(ev_delay[i]/dt))\n",
    "    data[i, fsamp-50:fsamp+51] = sci.ricker(101,4.0)\n",
    "\n",
    "data = data + np.random.normal(0, 1, data.shape)"
   ]
  },
  {
   "cell_type": "code",
   "execution_count": 49,
   "id": "6ef1c439",
   "metadata": {
    "scrolled": false
   },
   "outputs": [
    {
     "data": {
      "application/vnd.jupyter.widget-view+json": {
       "model_id": "9dfab688fd6c4c6da98c3603b73fa83d",
       "version_major": 2,
       "version_minor": 0
      },
      "text/plain": [
       "FigureCanvasNbAgg()"
      ]
     },
     "metadata": {},
     "output_type": "display_data"
    }
   ],
   "source": [
    "%matplotlib widget\n",
    "plot_seismic(data)"
   ]
  },
  {
   "cell_type": "markdown",
   "id": "e24767f5",
   "metadata": {},
   "source": [
    "# Can we automatically recover the angle of arrival for this very noisy event?"
   ]
  },
  {
   "cell_type": "code",
   "execution_count": 50,
   "id": "b0ef8a26",
   "metadata": {},
   "outputs": [],
   "source": [
    "pos_angles = np.linspace(0.0,90.0,361) # This method only works for events coming from below the array, so the highest possible angle is 90 degrees - horizontal incidence\n",
    "pos_delays = tt.pred_vertical_tt(vel, dz, pos_angles)\n",
    "semb_win = 0.01\n",
    "(ang_inds, coherence) = a_sc.scan_angles(data, pos_delays, semb_win, dt, 'sembstack')"
   ]
  },
  {
   "cell_type": "code",
   "execution_count": 53,
   "id": "87664dd4",
   "metadata": {
    "scrolled": false
   },
   "outputs": [
    {
     "data": {
      "application/vnd.jupyter.widget-view+json": {
       "model_id": "e27729ec3b434f15a65bfb5c62b77afc",
       "version_major": 2,
       "version_minor": 0
      },
      "text/plain": [
       "FigureCanvasNbAgg()"
      ]
     },
     "metadata": {},
     "output_type": "display_data"
    }
   ],
   "source": [
    "plt.figure(figsize=(6,5))\n",
    "plt.scatter(np.arange(0,nt)*dt,pos_angles[ang_inds],10000*coherence*coherence)\n",
    "plt.plot(200*dt,48.0,'+r')\n",
    "plt.axis([0,0.4,0,90])\n",
    "plt.xlabel('Time (s)')\n",
    "plt.ylabel('Estimated angle (degree)')\n",
    "plt.show()"
   ]
  }
 ],
 "metadata": {
  "kernelspec": {
   "display_name": "Python 3",
   "language": "python",
   "name": "python3"
  },
  "language_info": {
   "codemirror_mode": {
    "name": "ipython",
    "version": 3
   },
   "file_extension": ".py",
   "mimetype": "text/x-python",
   "name": "python",
   "nbconvert_exporter": "python",
   "pygments_lexer": "ipython3",
   "version": "3.6.11"
  }
 },
 "nbformat": 4,
 "nbformat_minor": 5
}
